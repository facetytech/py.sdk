{
 "cells": [
  {
   "cell_type": "code",
   "execution_count": 2,
   "metadata": {},
   "outputs": [],
   "source": [
    "from google.protobuf.timestamp_pb2 import Timestamp as Ts\n",
    "from datetime import datetime as dt\n",
    "from google.protobuf.empty_pb2 import Empty\n",
    "\n",
    "timestamp = Ts()\n",
    "timestamp.FromDatetime(dt.now())\n",
    "\n",
    "from facety.agreements import AdoptionClient, ReceivingClient, messages\n",
    "\n",
    "PORT = 5005\n",
    "\n",
    "adoption_client = AdoptionClient(host=f'localhost:{PORT}', insecure=True)\n",
    "receiving_client = ReceivingClient(host=f'localhost:{PORT}', insecure=True)\n"
   ]
  },
  {
   "cell_type": "code",
   "execution_count": 3,
   "metadata": {},
   "outputs": [
    {
     "data": {
      "text/plain": [
       "{}"
      ]
     },
     "execution_count": 3,
     "metadata": {},
     "output_type": "execute_result"
    }
   ],
   "source": [
    "\n",
    "remark = messages.ProtocolRemark(\n",
    "    version='1',\n",
    "    hash='hash',\n",
    "    country='FR',\n",
    "    #timestamp=timestamp\n",
    ")\n",
    "\n",
    "adoption_client.add_remark(\n",
    "    messages.Remark(id='id', remark=remark)\n",
    ")\n"
   ]
  },
  {
   "cell_type": "code",
   "execution_count": 7,
   "metadata": {},
   "outputs": [
    {
     "data": {
      "text/plain": [
       "{'tos': {'text': 'tos', 'version': '1', 'hash': 'h', 'lang': 'fr'},\n",
       " 'pp': {'text': 'tos', 'version': '1', 'hash': 'h', 'lang': 'fr'},\n",
       " 'remark': {'text': 'tos', 'version': '1', 'hash': 'h'}}"
      ]
     },
     "execution_count": 7,
     "metadata": {},
     "output_type": "execute_result"
    }
   ],
   "source": [
    "user = messages.User(protocol='aaa', langs=['fr', 'de'], country='UA')\n",
    "\n",
    "receiving_client.get_texts(user)"
   ]
  }
 ],
 "metadata": {
  "kernelspec": {
   "display_name": "facety-Bx0HR5-w-py3.10",
   "language": "python",
   "name": "python3"
  },
  "language_info": {
   "codemirror_mode": {
    "name": "ipython",
    "version": 3
   },
   "file_extension": ".py",
   "mimetype": "text/x-python",
   "name": "python",
   "nbconvert_exporter": "python",
   "pygments_lexer": "ipython3",
   "version": "3.10.5"
  },
  "orig_nbformat": 4
 },
 "nbformat": 4,
 "nbformat_minor": 2
}
