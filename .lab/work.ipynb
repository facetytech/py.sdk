{
 "cells": [
  {
   "cell_type": "code",
   "execution_count": null,
   "metadata": {},
   "outputs": [],
   "source": [
    "import grpc\n",
    "from concurrent import futures\n",
    "from google.protobuf.empty_pb2 import Empty\n",
    "\n",
    "from facety.agreements import AdoptionClient, messages, services\n",
    "\n",
    "PORT = 5005\n",
    "\n",
    "\n",
    "class AdoptionServicer(services.AdoptionServicer):  # noqa: D101\n",
    "\n",
    "    def CheckProtocol(self, request, context):  # noqa: N802,D102\n",
    "        tos = messages.VerdictTos(status=True, comment='sss')\n",
    "        pp = messages.VerdictPp(status=False, comment='ddd')\n",
    "        remark = messages.VerdictRemark(status=False, comment='fff')\n",
    "\n",
    "        return messages.Verdict(tos=tos, pp=pp, remark=remark)\n",
    "\n",
    "    def AddProtocol(self, request, context):  # noqa: N802,D102\n",
    "        return messages.Selector(id='aaa')\n",
    "\n",
    "    def AddRemark(self, request, context):  # noqa: N802,D102\n",
    "        return Empty()\n",
    "\n",
    "\n",
    "class ReceivingServicer(services.ReceivingServicer):  # noqa: D101\n",
    "\n",
    "    def Texts(self, request, context):  # noqa: N802,D102\n",
    "\n",
    "        tos = messages.AgreementsTos(text='tos', version='1', hash='h', lang='fr')\n",
    "        pp = messages.AgreementsPp(text='tos', version='1', hash='h', lang='fr')\n",
    "        remarks = [messages.AgreementsRemark(text='tos', version='1', hash='h')]\n",
    "\n",
    "        return messages.Agreements(tos=tos, pp=pp, remarks=remarks)\n"
   ]
  },
  {
   "cell_type": "code",
   "execution_count": null,
   "metadata": {},
   "outputs": [],
   "source": [
    "server = grpc.server(futures.ThreadPoolExecutor(max_workers=10))\n",
    "\n",
    "services.add_AdoptionServicer_to_server(AdoptionServicer(), server)\n",
    "services.add_ReceivingServicer_to_server(ReceivingServicer(), server)\n",
    "\n",
    "server.add_insecure_port(f'[::]:{PORT}')\n",
    "server.start()\n",
    "server.wait_for_termination()"
   ]
  }
 ],
 "metadata": {
  "kernelspec": {
   "display_name": "facety-Bx0HR5-w-py3.10",
   "language": "python",
   "name": "python3"
  },
  "language_info": {
   "codemirror_mode": {
    "name": "ipython",
    "version": 3
   },
   "file_extension": ".py",
   "mimetype": "text/x-python",
   "name": "python",
   "nbconvert_exporter": "python",
   "pygments_lexer": "ipython3",
   "version": "3.10.5"
  },
  "orig_nbformat": 4
 },
 "nbformat": 4,
 "nbformat_minor": 2
}
